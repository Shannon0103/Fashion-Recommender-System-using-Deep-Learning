{
 "cells": [
  {
   "cell_type": "code",
   "execution_count": 9,
   "id": "00907b1d",
   "metadata": {},
   "outputs": [],
   "source": [
    "import tensorflow\n",
    "from tensorflow.keras.preprocessing import image\n",
    "from tensorflow.keras.layers import GlobalMaxPooling2D\n",
    "from tensorflow.keras.applications.resnet50 import ResNet50,preprocess_input"
   ]
  },
  {
   "cell_type": "code",
   "execution_count": 19,
   "id": "d79fe5c9",
   "metadata": {},
   "outputs": [],
   "source": [
    "import numpy as np\n",
    "from numpy.linalg import norm\n",
    "import os\n",
    "from tqdm import tqdm\n",
    "import pickle"
   ]
  },
  {
   "cell_type": "code",
   "execution_count": 11,
   "id": "23d2deaa",
   "metadata": {},
   "outputs": [
    {
     "name": "stdout",
     "output_type": "stream",
     "text": [
      "Model: \"sequential_1\"\n",
      "_________________________________________________________________\n",
      "Layer (type)                 Output Shape              Param #   \n",
      "=================================================================\n",
      "resnet50 (Functional)        (None, 7, 7, 2048)        23587712  \n",
      "_________________________________________________________________\n",
      "global_max_pooling2d_1 (Glob (None, 2048)              0         \n",
      "=================================================================\n",
      "Total params: 23,587,712\n",
      "Trainable params: 0\n",
      "Non-trainable params: 23,587,712\n",
      "_________________________________________________________________\n",
      "None\n"
     ]
    }
   ],
   "source": [
    "model = ResNet50(weights='imagenet',include_top=False,input_shape=(224,224,3))\n",
    "model.trainable = False\n",
    "\n",
    "model = tensorflow.keras.Sequential([\n",
    "    model,\n",
    "    GlobalMaxPooling2D()\n",
    "])\n",
    "\n",
    "print(model.summary())"
   ]
  },
  {
   "cell_type": "code",
   "execution_count": 12,
   "id": "5926c7f0",
   "metadata": {},
   "outputs": [],
   "source": [
    "def extract_features(img_path,model):\n",
    "  img= image.load_img(img_path,target_size=(224,224))\n",
    "  img_array = image.img_to_array(img)\n",
    "  expanded_img_array = np.expand_dims(img_array,axis=0)\n",
    "  preprocessed_img = preprocess_input(expanded_img_array)\n",
    "  result = model.predict(preprocessed_img).flatten()\n",
    "  normalized_result = result / norm(result)\n",
    "  return normalized_result"
   ]
  },
  {
   "cell_type": "code",
   "execution_count": 13,
   "id": "42039ae4",
   "metadata": {},
   "outputs": [],
   "source": [
    "filenames = []"
   ]
  },
  {
   "cell_type": "code",
   "execution_count": 21,
   "id": "26959eea",
   "metadata": {},
   "outputs": [
    {
     "name": "stderr",
     "output_type": "stream",
     "text": [
      "100%|██████████████████████████████████████████████████████████████████████████| 44441/44441 [1:51:27<00:00,  6.65it/s]\n"
     ]
    }
   ],
   "source": [
    "filenames = []\n",
    "for file in os.listdir('images'):\n",
    "    filenames.append(os.path.join('images',file))\n",
    "\n",
    "feature_list = []\n",
    "for file in tqdm(filenames):\n",
    "    feature_list.append(extract_features(file,model))\n",
    "    \n",
    "pickle.dump(feature_list,open('embeddings.pkl','wb'))\n",
    "pickle.dump(filenames,open('filenames.pkl','wb'))"
   ]
  },
  {
   "cell_type": "code",
   "execution_count": 15,
   "id": "31c1d758",
   "metadata": {},
   "outputs": [],
   "source": [
    "feature_list = []"
   ]
  },
  {
   "cell_type": "code",
   "execution_count": null,
   "id": "891789a2",
   "metadata": {},
   "outputs": [],
   "source": [
    "for file in tqdm(filenames):\n",
    "    feature_list.append(extract_features(file,model))"
   ]
  },
  {
   "cell_type": "code",
   "execution_count": null,
   "id": "601228c9",
   "metadata": {},
   "outputs": [],
   "source": [
    "print(np.array(feature_list).shape)"
   ]
  },
  {
   "cell_type": "code",
   "execution_count": 20,
   "id": "cae0c131",
   "metadata": {},
   "outputs": [],
   "source": [
    "pickle.dump(feature_list,open('embeddings.pkl','wb'))\n",
    "pickle.dump(filenames,open('filenames.pkl','wb'))"
   ]
  },
  {
   "cell_type": "code",
   "execution_count": null,
   "id": "1e916022",
   "metadata": {},
   "outputs": [],
   "source": []
  }
 ],
 "metadata": {
  "kernelspec": {
   "display_name": "Python 3 (ipykernel)",
   "language": "python",
   "name": "python3"
  },
  "language_info": {
   "codemirror_mode": {
    "name": "ipython",
    "version": 3
   },
   "file_extension": ".py",
   "mimetype": "text/x-python",
   "name": "python",
   "nbconvert_exporter": "python",
   "pygments_lexer": "ipython3",
   "version": "3.7.1"
  }
 },
 "nbformat": 4,
 "nbformat_minor": 5
}
